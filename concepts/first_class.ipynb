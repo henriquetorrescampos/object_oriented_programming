{
 "cells": [
  {
   "cell_type": "code",
   "execution_count": 29,
   "metadata": {},
   "outputs": [
    {
     "name": "stdout",
     "output_type": "stream",
     "text": [
      "info aqui no construtor\n",
      "My action1\n",
      "My action2\n",
      "1\n",
      "Ola\n"
     ]
    }
   ],
   "source": [
    "class MinhaClasse:\n",
    "    def __init__(self, info, num): #metodo construtor\n",
    "        self.atributo_1 = 'meu atributo'\n",
    "        self.atributo_2 = num\n",
    "        self.atributo_3 = [1, 2, 'a']\n",
    "        self.atributo_novo = info \n",
    "        print(self.atributo_novo)\n",
    "\n",
    "    def metodo_1(self): #self se refere a classe\n",
    "        print('My action1')\n",
    "        print('My action2')\n",
    "        print(self.atributo_2)\n",
    "        return 'Ola'\n",
    "    \n",
    "    def metodo_2(self, numero):\n",
    "        # self.metodo_1()\n",
    "        print(self.atributo_2 + numero)\n",
    "\n",
    "#objeto          #classe instancia objeto\n",
    "minha_classe = MinhaClasse('info aqui no construtor', 1)\n",
    "\n",
    "response = minha_classe.metodo_1()\n",
    "print(response)\n",
    "\n",
    "# minha_classe.metodo_2(3)"
   ]
  },
  {
   "cell_type": "code",
   "execution_count": 30,
   "metadata": {},
   "outputs": [
    {
     "name": "stdout",
     "output_type": "stream",
     "text": [
      "read data in Caminho.csv\n"
     ]
    }
   ],
   "source": [
    "class CsvHandler:\n",
    "    def __init__(self, directory) -> None:\n",
    "        self.dir = directory\n",
    "\n",
    "    def insert_data_csv(self, data):\n",
    "        print(f'Inserindo {data} em {self.dir}')\n",
    "    \n",
    "    def read_data(self):\n",
    "        print(f'read data in {self.dir}')\n",
    "    \n",
    "csv_handle = CsvHandler('Caminho.csv')\n",
    "csv_handle.read_data()"
   ]
  },
  {
   "cell_type": "code",
   "execution_count": 43,
   "metadata": {},
   "outputs": [
    {
     "name": "stdout",
     "output_type": "stream",
     "text": [
      "Altura 1.7\n",
      "Idade 20\n",
      "Correr True\n",
      "Comer True\n"
     ]
    }
   ],
   "source": [
    "class Pessoa:\n",
    "    def __init__(self, altura, idade, correr, comer):\n",
    "        self.altura = altura\n",
    "        self.idade = idade\n",
    "        self.correr = correr\n",
    "        self.comer = comer\n",
    "    \n",
    "    def carac_pessoa(self):\n",
    "        print(f'Altura {self.altura}')\n",
    "        print(f'Idade {self.idade}')\n",
    "        print(f'Correr {self.correr}')\n",
    "        print(f'Comer {self.comer}')\n",
    "\n",
    "pessoa = Pessoa(1.70, 20, True, True)\n",
    "\n",
    "pessoa.carac_pessoa()"
   ]
  }
 ],
 "metadata": {
  "kernelspec": {
   "display_name": "Python 3",
   "language": "python",
   "name": "python3"
  },
  "language_info": {
   "codemirror_mode": {
    "name": "ipython",
    "version": 3
   },
   "file_extension": ".py",
   "mimetype": "text/x-python",
   "name": "python",
   "nbconvert_exporter": "python",
   "pygments_lexer": "ipython3",
   "version": "3.12.3"
  }
 },
 "nbformat": 4,
 "nbformat_minor": 2
}
