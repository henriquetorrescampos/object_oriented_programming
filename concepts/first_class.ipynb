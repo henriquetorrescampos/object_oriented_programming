{
 "cells": [
  {
   "cell_type": "code",
   "execution_count": 1,
   "metadata": {},
   "outputs": [
    {
     "name": "stdout",
     "output_type": "stream",
     "text": [
      "info aqui no construtor\n",
      "My action1\n",
      "My action2\n",
      "1\n",
      "Ola\n"
     ]
    }
   ],
   "source": [
    "class MinhaClasse:\n",
    "    def __init__(self, info, num): #metodo construtor\n",
    "        self.atributo_1 = 'meu atributo'\n",
    "        self.atributo_2 = num\n",
    "        self.atributo_3 = [1, 2, 'a']\n",
    "        self.atributo_novo = info \n",
    "        print(self.atributo_novo)\n",
    "\n",
    "    def metodo_1(self): #self se refere a classe, método da classe MinhaClasse\n",
    "        print('My action1') #ações criadas\n",
    "        print('My action2') #ações criadas\n",
    "        print(self.atributo_2) #ações criadas \n",
    "        return 'Ola' #ações criadas\n",
    "    \n",
    "    def metodo_2(self, numero):\n",
    "        # self.metodo_1()\n",
    "        print(self.atributo_2 + numero)\n",
    "\n",
    "#objeto          #classe instancia objeto\n",
    "minha_classe = MinhaClasse('info aqui no construtor', 1)\n",
    "\n",
    "response = minha_classe.metodo_1()\n",
    "print(response)\n",
    "\n",
    "# minha_classe.metodo_2(3)"
   ]
  },
  {
   "cell_type": "code",
   "execution_count": 30,
   "metadata": {},
   "outputs": [
    {
     "name": "stdout",
     "output_type": "stream",
     "text": [
      "read data in Caminho.csv\n"
     ]
    }
   ],
   "source": [
    "class CsvHandler:\n",
    "    def __init__(self, directory) -> None:\n",
    "        self.dir = directory\n",
    "\n",
    "    def insert_data_csv(self, data):\n",
    "        print(f'Inserindo {data} em {self.dir}')\n",
    "    \n",
    "    def read_data(self):\n",
    "        print(f'read data in {self.dir}')\n",
    "    \n",
    "csv_handle = CsvHandler('Caminho.csv')\n",
    "csv_handle.read_data()"
   ]
  },
  {
   "cell_type": "code",
   "execution_count": 43,
   "metadata": {},
   "outputs": [
    {
     "name": "stdout",
     "output_type": "stream",
     "text": [
      "Altura 1.7\n",
      "Idade 20\n",
      "Correr True\n",
      "Comer True\n"
     ]
    }
   ],
   "source": [
    "class Pessoa:\n",
    "    def __init__(self, altura, idade, correr, comer):\n",
    "        self.altura = altura\n",
    "        self.idade = idade\n",
    "        self.correr = correr\n",
    "        self.comer = comer\n",
    "    \n",
    "    def carac_pessoa(self):\n",
    "        print(f'Altura {self.altura}')\n",
    "        print(f'Idade {self.idade}')\n",
    "        print(f'Correr {self.correr}')\n",
    "        print(f'Comer {self.comer}')\n",
    "\n",
    "pessoa = Pessoa(1.70, 20, True, True)\n",
    "\n",
    "pessoa.carac_pessoa()"
   ]
  },
  {
   "cell_type": "code",
   "execution_count": 7,
   "metadata": {},
   "outputs": [
    {
     "name": "stdout",
     "output_type": "stream",
     "text": [
      "andre\n"
     ]
    },
    {
     "ename": "TypeError",
     "evalue": "PessoaFisica.get_cpf() takes 1 positional argument but 2 were given",
     "output_type": "error",
     "traceback": [
      "\u001b[0;31m---------------------------------------------------------------------------\u001b[0m",
      "\u001b[0;31mTypeError\u001b[0m                                 Traceback (most recent call last)",
      "Cell \u001b[0;32mIn[7], line 23\u001b[0m\n\u001b[1;32m     21\u001b[0m andre \u001b[38;5;241m=\u001b[39m PessoaFisica(\u001b[38;5;124m'\u001b[39m\u001b[38;5;124mandre\u001b[39m\u001b[38;5;124m'\u001b[39m, \u001b[38;5;241m20\u001b[39m, \u001b[38;5;241m1.8\u001b[39m, \u001b[38;5;241m80\u001b[39m, \u001b[38;5;124m'\u001b[39m\u001b[38;5;124m700\u001b[39m\u001b[38;5;124m'\u001b[39m)\n\u001b[1;32m     22\u001b[0m \u001b[38;5;28mprint\u001b[39m(andre\u001b[38;5;241m.\u001b[39mget_nome())\n\u001b[0;32m---> 23\u001b[0m \u001b[38;5;28mprint\u001b[39m(\u001b[43mandre\u001b[49m\u001b[38;5;241;43m.\u001b[39;49m\u001b[43mget_cpf\u001b[49m\u001b[43m(\u001b[49m\u001b[38;5;124;43m'\u001b[39;49m\u001b[38;5;124;43m700\u001b[39;49m\u001b[38;5;124;43m'\u001b[39;49m\u001b[43m)\u001b[49m)\n",
      "\u001b[0;31mTypeError\u001b[0m: PessoaFisica.get_cpf() takes 1 positional argument but 2 were given"
     ]
    }
   ],
   "source": [
    "class Pessoa(object): #classe pai\n",
    "    def __init__(self, nome, idade, altura, peso) -> None: #método construtor\n",
    "        self.nome = nome #atributos\n",
    "        self.idade = idade\n",
    "        self.altura = altura\n",
    "        self.peso = peso\n",
    "        \n",
    "    def get_nome(self):\n",
    "        return self.nome\n",
    "\n",
    "class PessoaFisica(Pessoa): #classe filho\n",
    "    def __init__(self, nome, idade, altura, peso, cpf) -> None:\n",
    "        super().__init__(nome, idade, altura, peso)\n",
    "        self.cpf = cpf\n",
    "\n",
    "    def get_cpf(self): #método, ação\n",
    "        return self.cpf\n",
    "\n",
    "\n",
    "\n",
    "andre = PessoaFisica('andre', 20, 1.8, 80, '700')\n",
    "print(andre.get_nome())\n",
    "print(andre.get_cpf())"
   ]
  }
 ],
 "metadata": {
  "kernelspec": {
   "display_name": "Python 3",
   "language": "python",
   "name": "python3"
  },
  "language_info": {
   "codemirror_mode": {
    "name": "ipython",
    "version": 3
   },
   "file_extension": ".py",
   "mimetype": "text/x-python",
   "name": "python",
   "nbconvert_exporter": "python",
   "pygments_lexer": "ipython3",
   "version": "3.12.3"
  }
 },
 "nbformat": 4,
 "nbformat_minor": 2
}
